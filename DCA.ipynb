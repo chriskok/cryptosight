{
 "cells": [
  {
   "cell_type": "markdown",
   "source": [
    "# Dollar Cost Averaging (DCA) with cryptocurrencies\r\n",
    "A notebook to explore the effectiveness of DCA with different popular cryptocurrencies"
   ],
   "metadata": {}
  },
  {
   "cell_type": "code",
   "execution_count": 30,
   "source": [
    "import os\r\n",
    "import numpy as np \r\n",
    "import pandas as pd \r\n",
    "import datetime as dt\r\n",
    "import matplotlib.pyplot as plt\r\n",
    "from tensorflow.keras.models import Sequential\r\n",
    "from tensorflow.keras.layers import Dense, LSTM\r\n",
    "from tensorflow.keras.metrics import MeanSquaredError"
   ],
   "outputs": [],
   "metadata": {}
  },
  {
   "cell_type": "code",
   "execution_count": 31,
   "source": [
    "# read data from CSVs, starting with my three favourites\r\n",
    "BTC_df = pd.read_csv(\".\\data\\crypto_prices\\coin_Bitcoin.csv\", parse_dates=['Date'])\r\n",
    "ETH_df = pd.read_csv(\".\\data\\crypto_prices\\coin_Ethereum.csv\", parse_dates=['Date'])\r\n",
    "ADA_df = pd.read_csv(\".\\data\\crypto_prices\\coin_Cardano.csv\", parse_dates=['Date'])\r\n",
    "\r\n",
    "merged_df = BTC_df.append(ETH_df)\r\n",
    "merged_df = merged_df.append(ADA_df)\r\n",
    "merged_df.shape"
   ],
   "outputs": [
    {
     "output_type": "execute_result",
     "data": {
      "text/plain": [
       "(6525, 10)"
      ]
     },
     "metadata": {},
     "execution_count": 31
    }
   ],
   "metadata": {}
  },
  {
   "cell_type": "markdown",
   "source": [
    "## BTC DCA Case Study"
   ],
   "metadata": {}
  },
  {
   "cell_type": "markdown",
   "source": [
    "Starting with a case study example, let's say I put in $100 into bitcoin every week in 2019:\r\n",
    "1. how much would that leave me with at the start of 2020? \r\n",
    "2. how would it compare to if I'd just invested it all at once?"
   ],
   "metadata": {}
  },
  {
   "cell_type": "code",
   "execution_count": 32,
   "source": [
    "df = BTC_df.set_index(['Date'])\r\n",
    "\r\n",
    "def get_btc_price(date):\r\n",
    "    # get the bitcoin close price that day\r\n",
    "    price = df.loc[date.strftime(\"%Y-%m-%d\"):date.strftime(\"%Y-%m-%d\")]['Close'].iloc[0]\r\n",
    "    return price\r\n",
    "\r\n",
    "def buy_btc(dollar_amt, date):\r\n",
    "    # get the bitcoin close price that day\r\n",
    "    price = get_btc_price(date)\r\n",
    "    \r\n",
    "    # get the bitcoin amount purchased given the dollar amt\r\n",
    "    btc_amt = dollar_amt/price\r\n",
    "\r\n",
    "    return btc_amt"
   ],
   "outputs": [],
   "metadata": {}
  },
  {
   "cell_type": "markdown",
   "source": [
    "Question 1: Gains when 2020 comes around"
   ],
   "metadata": {}
  },
  {
   "cell_type": "code",
   "execution_count": 36,
   "source": [
    "YEAR = 2020\r\n",
    "start = \"01/01/{}\".format(YEAR)\r\n",
    "curr_date = dt.datetime.strptime(start, \"%m/%d/%Y\")\r\n",
    "total_btc = 0.0\r\n",
    "money_per_week = 100\r\n",
    "weeks = 0\r\n",
    "\r\n",
    "# iterate through each week of the year \r\n",
    "while(curr_date.year == YEAR):\r\n",
    "    total_btc += buy_btc(money_per_week, curr_date)\r\n",
    "    # print('now own: {} BTC'.format(total_btc))\r\n",
    "    curr_date = curr_date + dt.timedelta(days=7)\r\n",
    "    weeks += 1\r\n",
    "\r\n",
    "# quick math\r\n",
    "curr_btc_price = get_btc_price(curr_date) * total_btc\r\n",
    "money_spent = money_per_week*weeks\r\n",
    "profit = curr_btc_price - money_spent\r\n",
    "increase = profit/money_spent * 100\r\n",
    "\r\n",
    "print('You gained {:.2f} BTC and spent ${} over the course of {} weeks'.format(total_btc, money_spent, weeks))\r\n",
    "print('That amount of BTC is worth ${:.2f} on {}'.format(curr_btc_price, curr_date.strftime(\"%Y/%m/%d\")))\r\n",
    "print('You earned {:.2f} in profit for an increase of {:.2f}%'.format(profit, increase))"
   ],
   "outputs": [
    {
     "output_type": "stream",
     "name": "stdout",
     "text": [
      "You gained 0.53 BTC and spent $5300 over the course of 53 weeks\n",
      "That amount of BTC is worth $19426.37 on 2021/01/06\n",
      "You earned 14126.37 in profit for an increase of 266.54%\n"
     ]
    }
   ],
   "metadata": {}
  },
  {
   "cell_type": "markdown",
   "source": [
    "Question 2: What if we just invested it all at once?"
   ],
   "metadata": {}
  },
  {
   "cell_type": "code",
   "execution_count": 38,
   "source": [
    "YEAR = 2020\r\n",
    "start = \"01/01/{}\".format(YEAR)\r\n",
    "curr_date = dt.datetime.strptime(start, \"%m/%d/%Y\")\r\n",
    "\r\n",
    "money_spent = 5300\r\n",
    "total_btc = buy_btc(money_spent, curr_date)\r\n",
    "\r\n",
    "# quick math\r\n",
    "new_date = dt.datetime.strptime('2021/01/06', \"%Y/%m/%d\")\r\n",
    "curr_btc_price = get_btc_price(new_date) * total_btc\r\n",
    "profit = curr_btc_price - money_spent\r\n",
    "increase = profit/money_spent * 100\r\n",
    "\r\n",
    "print('You gained {:.2f} BTC and spent ${} at the start of the year'.format(total_btc, money_spent))\r\n",
    "print('That amount of BTC is worth ${:.2f} on {}'.format(curr_btc_price, new_date.strftime(\"%Y-%m-%d\")))\r\n",
    "print('You earned {:.2f} in profit for an increase of {:.2f}%'.format(profit, increase))"
   ],
   "outputs": [
    {
     "output_type": "stream",
     "name": "stdout",
     "text": [
      "You gained 0.74 BTC and spent $5300 at the start of the year\n",
      "That amount of BTC is worth $27106.17 on 2021-01-06\n",
      "You earned 21806.17 in profit for an increase of 411.44%\n"
     ]
    }
   ],
   "metadata": {}
  },
  {
   "cell_type": "code",
   "execution_count": null,
   "source": [],
   "outputs": [],
   "metadata": {}
  }
 ],
 "metadata": {
  "orig_nbformat": 4,
  "language_info": {
   "name": "python",
   "version": "3.7.10",
   "mimetype": "text/x-python",
   "codemirror_mode": {
    "name": "ipython",
    "version": 3
   },
   "pygments_lexer": "ipython3",
   "nbconvert_exporter": "python",
   "file_extension": ".py"
  },
  "kernelspec": {
   "name": "python3",
   "display_name": "Python 3.7.10 64-bit ('crypto': conda)"
  },
  "interpreter": {
   "hash": "ddec86b2d1d3d92b766766b24b4f2f3c9c611c3fc7b78320818fbb94607e0010"
  }
 },
 "nbformat": 4,
 "nbformat_minor": 2
}