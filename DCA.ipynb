{
 "cells": [
  {
   "cell_type": "markdown",
   "source": [
    "# Dollar Cost Averaging (DCA) with cryptocurrencies\r\n",
    "A notebook to explore the effectiveness of DCA with different popular cryptocurrencies"
   ],
   "metadata": {}
  },
  {
   "cell_type": "code",
   "execution_count": 4,
   "source": [
    "import os\r\n",
    "import numpy as np \r\n",
    "import pandas as pd \r\n",
    "import matplotlib.pyplot as plt\r\n",
    "from tensorflow.keras.models import Sequential\r\n",
    "from tensorflow.keras.layers import Dense, LSTM\r\n",
    "from tensorflow.keras.metrics import MeanSquaredError"
   ],
   "outputs": [],
   "metadata": {}
  },
  {
   "cell_type": "code",
   "execution_count": 17,
   "source": [
    "# read data from CSVs, starting with my three favourites\r\n",
    "BTC_df = pd.read_csv(\".\\data\\crypto_prices\\coin_Bitcoin.csv\", parse_dates=['Date'])\r\n",
    "ETH_df = pd.read_csv(\".\\data\\crypto_prices\\coin_Ethereum.csv\", parse_dates=['Date'])\r\n",
    "ADA_df = pd.read_csv(\".\\data\\crypto_prices\\coin_Cardano.csv\", parse_dates=['Date'])\r\n",
    "\r\n",
    "merged_df = BTC_df.append(ETH_df)\r\n",
    "merged_df = merged_df.append(ADA_df)"
   ],
   "outputs": [],
   "metadata": {}
  },
  {
   "cell_type": "code",
   "execution_count": null,
   "source": [],
   "outputs": [],
   "metadata": {}
  }
 ],
 "metadata": {
  "orig_nbformat": 4,
  "language_info": {
   "name": "python",
   "version": "3.7.10",
   "mimetype": "text/x-python",
   "codemirror_mode": {
    "name": "ipython",
    "version": 3
   },
   "pygments_lexer": "ipython3",
   "nbconvert_exporter": "python",
   "file_extension": ".py"
  },
  "kernelspec": {
   "name": "python3",
   "display_name": "Python 3.7.10 64-bit ('crypto': conda)"
  },
  "interpreter": {
   "hash": "ddec86b2d1d3d92b766766b24b4f2f3c9c611c3fc7b78320818fbb94607e0010"
  }
 },
 "nbformat": 4,
 "nbformat_minor": 2
}